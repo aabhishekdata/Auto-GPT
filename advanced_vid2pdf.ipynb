{
  "nbformat": 4,
  "nbformat_minor": 0,
  "metadata": {
    "colab": {
      "provenance": [],
      "authorship_tag": "ABX9TyPiIt6ZXFmc+CSdVrNbz4Ag",
      "include_colab_link": true
    },
    "kernelspec": {
      "name": "python3",
      "display_name": "Python 3"
    },
    "language_info": {
      "name": "python"
    }
  },
  "cells": [
    {
      "cell_type": "markdown",
      "metadata": {
        "id": "view-in-github",
        "colab_type": "text"
      },
      "source": [
        "<a href=\"https://colab.research.google.com/github/aabhishekdata/Auto-GPT/blob/master/advanced_vid2pdf.ipynb\" target=\"_parent\"><img src=\"https://colab.research.google.com/assets/colab-badge.svg\" alt=\"Open In Colab\"/></a>"
      ]
    },
    {
      "cell_type": "code",
      "execution_count": 1,
      "metadata": {
        "colab": {
          "base_uri": "https://localhost:8080/"
        },
        "id": "wiqrgLNog7Sw",
        "outputId": "77132064-ef01-479c-b685-5af554c6e88b"
      },
      "outputs": [
        {
          "output_type": "stream",
          "name": "stdout",
          "text": [
            "Collecting pytube3\n",
            "  Downloading pytube3-9.6.4-py3-none-any.whl (38 kB)\n",
            "Requirement already satisfied: moviepy in /usr/local/lib/python3.10/dist-packages (1.0.3)\n",
            "Collecting fpdf\n",
            "  Downloading fpdf-1.7.2.tar.gz (39 kB)\n",
            "  Preparing metadata (setup.py) ... \u001b[?25l\u001b[?25hdone\n",
            "Requirement already satisfied: pillow in /usr/local/lib/python3.10/dist-packages (9.4.0)\n",
            "Requirement already satisfied: scikit-image in /usr/local/lib/python3.10/dist-packages (0.19.3)\n",
            "Requirement already satisfied: typing-extensions in /usr/local/lib/python3.10/dist-packages (from pytube3) (4.5.0)\n",
            "Requirement already satisfied: decorator<5.0,>=4.0.2 in /usr/local/lib/python3.10/dist-packages (from moviepy) (4.4.2)\n",
            "Requirement already satisfied: tqdm<5.0,>=4.11.2 in /usr/local/lib/python3.10/dist-packages (from moviepy) (4.66.1)\n",
            "Requirement already satisfied: requests<3.0,>=2.8.1 in /usr/local/lib/python3.10/dist-packages (from moviepy) (2.31.0)\n",
            "Requirement already satisfied: proglog<=1.0.0 in /usr/local/lib/python3.10/dist-packages (from moviepy) (0.1.10)\n",
            "Requirement already satisfied: numpy>=1.17.3 in /usr/local/lib/python3.10/dist-packages (from moviepy) (1.23.5)\n",
            "Requirement already satisfied: imageio<3.0,>=2.5 in /usr/local/lib/python3.10/dist-packages (from moviepy) (2.31.3)\n",
            "Requirement already satisfied: imageio-ffmpeg>=0.2.0 in /usr/local/lib/python3.10/dist-packages (from moviepy) (0.4.8)\n",
            "Requirement already satisfied: scipy>=1.4.1 in /usr/local/lib/python3.10/dist-packages (from scikit-image) (1.11.2)\n",
            "Requirement already satisfied: networkx>=2.2 in /usr/local/lib/python3.10/dist-packages (from scikit-image) (3.1)\n",
            "Requirement already satisfied: tifffile>=2019.7.26 in /usr/local/lib/python3.10/dist-packages (from scikit-image) (2023.8.30)\n",
            "Requirement already satisfied: PyWavelets>=1.1.1 in /usr/local/lib/python3.10/dist-packages (from scikit-image) (1.4.1)\n",
            "Requirement already satisfied: packaging>=20.0 in /usr/local/lib/python3.10/dist-packages (from scikit-image) (23.1)\n",
            "Requirement already satisfied: charset-normalizer<4,>=2 in /usr/local/lib/python3.10/dist-packages (from requests<3.0,>=2.8.1->moviepy) (3.2.0)\n",
            "Requirement already satisfied: idna<4,>=2.5 in /usr/local/lib/python3.10/dist-packages (from requests<3.0,>=2.8.1->moviepy) (3.4)\n",
            "Requirement already satisfied: urllib3<3,>=1.21.1 in /usr/local/lib/python3.10/dist-packages (from requests<3.0,>=2.8.1->moviepy) (2.0.4)\n",
            "Requirement already satisfied: certifi>=2017.4.17 in /usr/local/lib/python3.10/dist-packages (from requests<3.0,>=2.8.1->moviepy) (2023.7.22)\n",
            "Building wheels for collected packages: fpdf\n",
            "  Building wheel for fpdf (setup.py) ... \u001b[?25l\u001b[?25hdone\n",
            "  Created wheel for fpdf: filename=fpdf-1.7.2-py2.py3-none-any.whl size=40704 sha256=79b77fcb51da74c133247b0f42ba611c7a068eb9d7491529cbb364e31dadfee3\n",
            "  Stored in directory: /root/.cache/pip/wheels/f9/95/ba/f418094659025eb9611f17cbcaf2334236bf39a0c3453ea455\n",
            "Successfully built fpdf\n",
            "Installing collected packages: fpdf, pytube3\n",
            "Successfully installed fpdf-1.7.2 pytube3-9.6.4\n"
          ]
        }
      ],
      "source": [
        "pip install pytube3 moviepy fpdf pillow scikit-image\n"
      ]
    },
    {
      "cell_type": "code",
      "source": [
        "pip install --upgrade pytube\n"
      ],
      "metadata": {
        "colab": {
          "base_uri": "https://localhost:8080/"
        },
        "id": "tEUDwKxuhEY1",
        "outputId": "371a0530-f55a-4c3b-c4cf-47dfa422003f"
      },
      "execution_count": 2,
      "outputs": [
        {
          "output_type": "stream",
          "name": "stdout",
          "text": [
            "Collecting pytube\n",
            "  Downloading pytube-15.0.0-py3-none-any.whl (57 kB)\n",
            "\u001b[?25l     \u001b[90m━━━━━━━━━━━━━━━━━━━━━━━━━━━━━━━━━━━━━━━━\u001b[0m \u001b[32m0.0/57.6 kB\u001b[0m \u001b[31m?\u001b[0m eta \u001b[36m-:--:--\u001b[0m\r\u001b[2K     \u001b[90m━━━━━━━━━━━━━━━━━━━━━━━━━━━━━━━━━━━━━━━━\u001b[0m \u001b[32m57.6/57.6 kB\u001b[0m \u001b[31m3.2 MB/s\u001b[0m eta \u001b[36m0:00:00\u001b[0m\n",
            "\u001b[?25hInstalling collected packages: pytube\n",
            "Successfully installed pytube-15.0.0\n"
          ]
        }
      ]
    },
    {
      "cell_type": "code",
      "source": [
        "from pytube import YouTube\n",
        "from moviepy.editor import VideoFileClip\n",
        "from fpdf import FPDF\n",
        "from skimage.metrics import structural_similarity as ssim\n",
        "from skimage.color import rgb2gray\n",
        "import os\n",
        "from PIL import Image\n",
        "import numpy as np"
      ],
      "metadata": {
        "id": "_8Uoi61QhEbs"
      },
      "execution_count": 8,
      "outputs": []
    },
    {
      "cell_type": "code",
      "source": [
        "# URL of the YouTube video\n",
        "url = 'https://www.youtube.com/watch?v=RuRmq7VyCaQ'\n",
        "\n",
        "# Output directory\n",
        "output_dir = 'output'\n"
      ],
      "metadata": {
        "id": "9U0Ue3PObaUJ"
      },
      "execution_count": 9,
      "outputs": []
    },
    {
      "cell_type": "code",
      "source": [
        "# Download the YouTube video\n",
        "try:\n",
        "    yt = YouTube(url)\n",
        "    stream = yt.streams.filter(file_extension='mp4', res='720p').first()\n",
        "    stream.download(output_path=output_dir, filename='video.mp4')\n",
        "except Exception as e:\n",
        "    print(f\"An error occurred: {e}\")\n",
        "    exit()"
      ],
      "metadata": {
        "id": "Gh-xm5DbhL-P"
      },
      "execution_count": 10,
      "outputs": []
    },
    {
      "cell_type": "code",
      "source": [
        "# Load the video\n",
        "clip = VideoFileClip(os.path.join(output_dir, 'video.mp4'))\n",
        "\n",
        "# SSIM threshold\n",
        "ssim_threshold = 0.9\n",
        "\n",
        "# Previous frame\n",
        "prev_frame = None\n",
        "\n",
        "# Frame counter\n",
        "counter = 0"
      ],
      "metadata": {
        "id": "1Gx4hgLuhMBW"
      },
      "execution_count": 11,
      "outputs": []
    },
    {
      "cell_type": "code",
      "source": [
        "# Iterate through the video frame by frame\n",
        "for i, frame in enumerate(clip.iter_frames(fps=1, dtype='uint8')):\n",
        "    # Convert the frame to grayscale\n",
        "    current_frame = rgb2gray(frame)\n",
        "\n",
        "    # If this is not the first frame, compare with the previous frame\n",
        "    if prev_frame is not None:\n",
        "        s = ssim(prev_frame, current_frame)\n",
        "        if s < ssim_threshold:\n",
        "            frame_path = os.path.join(output_dir, f'screenshot_{counter}.png')\n",
        "            im = Image.fromarray(frame)\n",
        "            im.save(frame_path)\n",
        "            counter += 1\n",
        "\n",
        "    # Update the previous frame\n",
        "    prev_frame = current_frame"
      ],
      "metadata": {
        "id": "1uQ_jHHqhMEk"
      },
      "execution_count": 12,
      "outputs": []
    },
    {
      "cell_type": "code",
      "source": [
        "# Create a PDF from the screenshots\n",
        "pdf = FPDF()\n",
        "pdf.set_auto_page_break(auto=True, margin=15)\n",
        "for i in range(counter):\n",
        "    frame_path = os.path.join(output_dir, f'screenshot_{i}.png')\n",
        "    pdf.add_page()\n",
        "    pdf.image(frame_path, x=10, y=10, w=190)\n",
        "pdf.output(os.path.join(output_dir, 'notes.pdf'))\n",
        "\n",
        "# Close the clip\n",
        "clip.close()"
      ],
      "metadata": {
        "id": "gDtNro4NhMHZ"
      },
      "execution_count": 13,
      "outputs": []
    },
    {
      "cell_type": "code",
      "source": [],
      "metadata": {
        "id": "EVGHwLW6hMKT"
      },
      "execution_count": null,
      "outputs": []
    },
    {
      "cell_type": "code",
      "source": [],
      "metadata": {
        "id": "zJF14p2chMNY"
      },
      "execution_count": null,
      "outputs": []
    },
    {
      "cell_type": "code",
      "source": [],
      "metadata": {
        "id": "oNAsVbMshMQa"
      },
      "execution_count": null,
      "outputs": []
    },
    {
      "cell_type": "code",
      "source": [],
      "metadata": {
        "id": "AWCev_W0hMTI"
      },
      "execution_count": null,
      "outputs": []
    },
    {
      "cell_type": "code",
      "source": [],
      "metadata": {
        "id": "7k0V9r9FhEe0"
      },
      "execution_count": null,
      "outputs": []
    },
    {
      "cell_type": "code",
      "source": [],
      "metadata": {
        "id": "pNPKMMcnhEiR"
      },
      "execution_count": null,
      "outputs": []
    }
  ]
}